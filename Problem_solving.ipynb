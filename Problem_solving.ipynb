{
  "nbformat": 4,
  "nbformat_minor": 0,
  "metadata": {
    "colab": {
      "provenance": [],
      "mount_file_id": "1yoL8lMG7zu6Xl2OG_VZ_HxwUeSu2JF-8",
      "authorship_tag": "ABX9TyMYBXNiM+Xvxcxb9DvRsJzv",
      "include_colab_link": true
    },
    "kernelspec": {
      "name": "python3",
      "display_name": "Python 3"
    },
    "language_info": {
      "name": "python"
    }
  },
  "cells": [
    {
      "cell_type": "markdown",
      "metadata": {
        "id": "view-in-github",
        "colab_type": "text"
      },
      "source": [
        "<a href=\"https://colab.research.google.com/github/sathish-nalladevagari/3-1-project-speech-recognition-basic-webpage/blob/main/Problem_solving.ipynb\" target=\"_parent\"><img src=\"https://colab.research.google.com/assets/colab-badge.svg\" alt=\"Open In Colab\"/></a>"
      ]
    },
    {
      "cell_type": "markdown",
      "source": [
        "Find area of rectangle\n"
      ],
      "metadata": {
        "id": "G3wu9uZ9gIXm"
      }
    },
    {
      "cell_type": "code",
      "execution_count": null,
      "metadata": {
        "colab": {
          "base_uri": "https://localhost:8080/"
        },
        "id": "cfncKr2igEu2",
        "outputId": "be9f31bd-7ae7-41f7-f4df-43a64801caec"
      },
      "outputs": [
        {
          "output_type": "execute_result",
          "data": {
            "text/plain": [
              "8"
            ]
          },
          "metadata": {},
          "execution_count": 4
        }
      ],
      "source": [
        "def areaofrectangle(length,breadth):\n",
        "  return (length * breadth)\n",
        "areaofrectangle(2,4)"
      ]
    },
    {
      "cell_type": "markdown",
      "source": [
        "Find ASCII value of a character\n",
        "\n"
      ],
      "metadata": {
        "id": "G6AZctLBhOdd"
      }
    },
    {
      "cell_type": "code",
      "source": [
        "def findascii(string):\n",
        "  return ord(string)\n",
        "findascii(\"g\")"
      ],
      "metadata": {
        "colab": {
          "base_uri": "https://localhost:8080/"
        },
        "id": "y3pcK08UhL6P",
        "outputId": "6bb3b3d7-0b1e-4231-eaa5-cb7f58256657"
      },
      "execution_count": null,
      "outputs": [
        {
          "output_type": "execute_result",
          "data": {
            "text/plain": [
              "103"
            ]
          },
          "metadata": {},
          "execution_count": 5
        }
      ]
    },
    {
      "cell_type": "markdown",
      "source": [
        "Convert Celsius to Fahrenheit"
      ],
      "metadata": {
        "id": "nPTHnIyoiQvt"
      }
    },
    {
      "cell_type": "code",
      "source": [
        "def celsiustofahren(cel):\n",
        "  return (1.8 * cel) + 32\n",
        "celsiustofahren(10)"
      ],
      "metadata": {
        "colab": {
          "base_uri": "https://localhost:8080/"
        },
        "id": "OSgCJfs1iVff",
        "outputId": "5eab556e-9b93-4ebc-c153-9bb749f45940"
      },
      "execution_count": null,
      "outputs": [
        {
          "output_type": "execute_result",
          "data": {
            "text/plain": [
              "50.0"
            ]
          },
          "metadata": {},
          "execution_count": 6
        }
      ]
    },
    {
      "cell_type": "markdown",
      "source": [
        "Swap value of two variables"
      ],
      "metadata": {
        "id": "uQJzyVw4jWnJ"
      }
    },
    {
      "cell_type": "code",
      "source": [
        "def swaptwovaiabale(a,b):\n",
        "  a,b = b,a\n",
        "  return a,b\n",
        "a = input()\n",
        "b = input()\n",
        "swaptwovaiabale(a,b)"
      ],
      "metadata": {
        "colab": {
          "base_uri": "https://localhost:8080/"
        },
        "id": "HnSimZkujWNy",
        "outputId": "abec83b2-59cd-464d-f17f-364f5442327e"
      },
      "execution_count": null,
      "outputs": [
        {
          "name": "stdout",
          "output_type": "stream",
          "text": [
            "a\n",
            "b\n"
          ]
        },
        {
          "output_type": "execute_result",
          "data": {
            "text/plain": [
              "('b', 'a')"
            ]
          },
          "metadata": {},
          "execution_count": 9
        }
      ]
    },
    {
      "cell_type": "markdown",
      "source": [
        "Check the given number is odd or even"
      ],
      "metadata": {
        "id": "c2YibZtYkdnr"
      }
    },
    {
      "cell_type": "code",
      "source": [
        "def evenorodd(num):\n",
        "  if abs(num)%2 ==0:\n",
        "    return \"Even\"\n",
        "  else:\n",
        "    return \"Odd\"\n",
        "evenorodd(-1)"
      ],
      "metadata": {
        "colab": {
          "base_uri": "https://localhost:8080/",
          "height": 36
        },
        "id": "UWyBwJ3Gkehv",
        "outputId": "5fc85041-df0b-4d37-eb75-c32e339d14bb"
      },
      "execution_count": null,
      "outputs": [
        {
          "output_type": "execute_result",
          "data": {
            "text/plain": [
              "'Odd'"
            ],
            "application/vnd.google.colaboratory.intrinsic+json": {
              "type": "string"
            }
          },
          "metadata": {},
          "execution_count": 14
        }
      ]
    },
    {
      "cell_type": "markdown",
      "source": [
        "Check whether a character is vowel or consonant"
      ],
      "metadata": {
        "id": "BOx3osbImiSY"
      }
    },
    {
      "cell_type": "code",
      "source": [
        "def vowelorconsonant(x):\n",
        "  switcher = {\n",
        "      \"a\" : \"vowel\",\n",
        "      \"e\" : \"vowel\",\n",
        "      \"i\" : \"vowel\",\n",
        "      \"o\" : \"vowel\",\n",
        "      \"u\" : \"vowel\",\n",
        "      \"A\" : \"vowel\",\n",
        "      \"E\" : \"vowel\",\n",
        "      \"I\" : \"vowel\",\n",
        "      \"O\" : \"vowel\",\n",
        "      \"U\" : \"vowel\",\n",
        "  }\n",
        "  return switcher.get(x,\"Consonant\")\n",
        "vowelorconsonant(\"a\")"
      ],
      "metadata": {
        "colab": {
          "base_uri": "https://localhost:8080/",
          "height": 36
        },
        "id": "rK7FbF3plCbL",
        "outputId": "5c88828c-fdd4-4b86-bfc8-7354c9288373"
      },
      "execution_count": null,
      "outputs": [
        {
          "output_type": "execute_result",
          "data": {
            "text/plain": [
              "'vowel'"
            ],
            "application/vnd.google.colaboratory.intrinsic+json": {
              "type": "string"
            }
          },
          "metadata": {},
          "execution_count": 17
        }
      ]
    },
    {
      "cell_type": "markdown",
      "source": [
        "Find largest among three numbers"
      ],
      "metadata": {
        "id": "vGc-V-dPnk78"
      }
    },
    {
      "cell_type": "code",
      "source": [
        "def largeamong3(a,b,c):\n",
        "  if a >= b and a >= c:\n",
        "    largest = a\n",
        "  elif b >= c and b >= a:\n",
        "    largest = b\n",
        "  else:\n",
        "    largest = c\n",
        "  return largest\n",
        "largeamong3(2,3,4)"
      ],
      "metadata": {
        "colab": {
          "base_uri": "https://localhost:8080/"
        },
        "id": "OAenizLznoDf",
        "outputId": "3a0a41d0-55fc-4674-fbfe-f10dbfbc88b9"
      },
      "execution_count": null,
      "outputs": [
        {
          "output_type": "execute_result",
          "data": {
            "text/plain": [
              "4"
            ]
          },
          "metadata": {},
          "execution_count": 19
        }
      ]
    },
    {
      "cell_type": "markdown",
      "source": [
        "Leap year checking"
      ],
      "metadata": {
        "id": "REU1XbMuoi8x"
      }
    },
    {
      "cell_type": "code",
      "source": [
        "def leapyearcheck(year):\n",
        "  if (year % 4 == 0 and year % 100 != 0) or (year % 400 == 0):\n",
        "    return \"Leap year\"\n",
        "  else:\n",
        "    return \"Not Leap year\"\n",
        "leapyearcheck(2020)"
      ],
      "metadata": {
        "colab": {
          "base_uri": "https://localhost:8080/",
          "height": 36
        },
        "id": "O0ZhBQD6ol7x",
        "outputId": "bac96299-bf82-4d82-9744-b3cce00c61d2"
      },
      "execution_count": null,
      "outputs": [
        {
          "output_type": "execute_result",
          "data": {
            "text/plain": [
              "'Leap year'"
            ],
            "application/vnd.google.colaboratory.intrinsic+json": {
              "type": "string"
            }
          },
          "metadata": {},
          "execution_count": 24
        }
      ]
    },
    {
      "cell_type": "markdown",
      "source": [
        "Positive negative checking"
      ],
      "metadata": {
        "id": "9Jp9WiOEqFkb"
      }
    },
    {
      "cell_type": "code",
      "source": [
        "def checkposorneg(num):\n",
        "  if num < 0:\n",
        "    return \"Negetive\"\n",
        "  else :\n",
        "    return \"Positive\"\n",
        "checkposorneg(10)"
      ],
      "metadata": {
        "colab": {
          "base_uri": "https://localhost:8080/",
          "height": 36
        },
        "id": "YzrDE89cqGYq",
        "outputId": "1bd14404-6cfc-48c5-fc4d-598b91cf9f4d"
      },
      "execution_count": null,
      "outputs": [
        {
          "output_type": "execute_result",
          "data": {
            "text/plain": [
              "'Negetive'"
            ],
            "application/vnd.google.colaboratory.intrinsic+json": {
              "type": "string"
            }
          },
          "metadata": {},
          "execution_count": 26
        }
      ]
    },
    {
      "cell_type": "markdown",
      "source": [
        "Quadratic equation"
      ],
      "metadata": {
        "id": "i-ezHQNkqicc"
      }
    },
    {
      "cell_type": "code",
      "source": [
        "import cmath\n",
        "def quadratic(a,b,c):\n",
        "  dis = cmath.sqrt(b**2 - 4*a*c)\n",
        "  root1 = (-b - dis)/(2*a)\n",
        "  root2 = (-b + dis)/(2*a)\n",
        "  return root1,root2\n",
        "quadratic(1,4,2)"
      ],
      "metadata": {
        "colab": {
          "base_uri": "https://localhost:8080/"
        },
        "id": "Qxd8XVHaqjUJ",
        "outputId": "ae9acd9a-1ded-4c8c-d1ff-e956bcb55b25"
      },
      "execution_count": null,
      "outputs": [
        {
          "output_type": "execute_result",
          "data": {
            "text/plain": [
              "((-3.414213562373095+0j), (-0.5857864376269049+0j))"
            ]
          },
          "metadata": {},
          "execution_count": 29
        }
      ]
    },
    {
      "cell_type": "markdown",
      "source": [
        "Factorial without using function"
      ],
      "metadata": {
        "id": "wBNhu5DBtyWe"
      }
    },
    {
      "cell_type": "code",
      "source": [
        "n = int(input(\"enter num\"))\n",
        "fact = 1\n",
        "while(n>0):\n",
        "  fact = fact*n\n",
        "  n = n-1\n",
        "print(fact)"
      ],
      "metadata": {
        "colab": {
          "base_uri": "https://localhost:8080/"
        },
        "id": "tZ_fMFXGuHen",
        "outputId": "72d734a6-faf6-4ba7-c108-2eaaf650e3e8"
      },
      "execution_count": null,
      "outputs": [
        {
          "output_type": "stream",
          "name": "stdout",
          "text": [
            "enter num5\n",
            "120\n"
          ]
        }
      ]
    },
    {
      "cell_type": "markdown",
      "source": [
        "Square of N"
      ],
      "metadata": {
        "id": "Y2AErnu8Fn39"
      }
    },
    {
      "cell_type": "code",
      "source": [
        "def square(a):\n",
        "  return a**2\n",
        "square(2)"
      ],
      "metadata": {
        "colab": {
          "base_uri": "https://localhost:8080/"
        },
        "id": "qnTr0gd4Fomn",
        "outputId": "2f1fb13d-6b99-41ea-e148-20d8d3d09cdb"
      },
      "execution_count": null,
      "outputs": [
        {
          "output_type": "execute_result",
          "data": {
            "text/plain": [
              "4"
            ]
          },
          "metadata": {},
          "execution_count": 1
        }
      ]
    },
    {
      "cell_type": "markdown",
      "source": [
        "Calculate x to the power y"
      ],
      "metadata": {
        "id": "YvJ9J9NgF6Jy"
      }
    },
    {
      "cell_type": "code",
      "source": [
        "def calpower(x,y):\n",
        "  return x**y\n",
        "calpower(2,3)"
      ],
      "metadata": {
        "colab": {
          "base_uri": "https://localhost:8080/"
        },
        "id": "-FBEyQFQF60j",
        "outputId": "32d94824-76d3-4dbc-a53b-15f26afc8c5d"
      },
      "execution_count": null,
      "outputs": [
        {
          "output_type": "execute_result",
          "data": {
            "text/plain": [
              "8"
            ]
          },
          "metadata": {},
          "execution_count": 2
        }
      ]
    },
    {
      "cell_type": "markdown",
      "source": [
        "Multiplication table"
      ],
      "metadata": {
        "id": "Ui50Xs5KGgjU"
      }
    },
    {
      "cell_type": "code",
      "source": [
        "def multiplication(num,times):\n",
        "  for i in range(1,times+1):\n",
        "    result = num * i\n",
        "    print(f\"{num}* {i} = {result}\")\n",
        "multiplication(7,10)"
      ],
      "metadata": {
        "colab": {
          "base_uri": "https://localhost:8080/"
        },
        "id": "E1eJfz7VGhch",
        "outputId": "a09a8a7a-3317-4ef6-c98f-e287b929ac34"
      },
      "execution_count": null,
      "outputs": [
        {
          "output_type": "stream",
          "name": "stdout",
          "text": [
            "7* 1 = 7\n",
            "7* 2 = 14\n",
            "7* 3 = 21\n",
            "7* 4 = 28\n",
            "7* 5 = 35\n",
            "7* 6 = 42\n",
            "7* 7 = 49\n",
            "7* 8 = 56\n",
            "7* 9 = 63\n",
            "7* 10 = 70\n"
          ]
        }
      ]
    },
    {
      "cell_type": "markdown",
      "source": [
        "Sum of natural numbers"
      ],
      "metadata": {
        "id": "GHQOxBcDHLbI"
      }
    },
    {
      "cell_type": "code",
      "source": [
        "def sumofnatural(n):\n",
        "  return n *(n+1)//2\n",
        "sumofnatural(10)"
      ],
      "metadata": {
        "colab": {
          "base_uri": "https://localhost:8080/"
        },
        "id": "j5cV07m9HMMM",
        "outputId": "d93a0d80-a43b-47d8-8ff2-3ab005a14b71"
      },
      "execution_count": null,
      "outputs": [
        {
          "output_type": "execute_result",
          "data": {
            "text/plain": [
              "55"
            ]
          },
          "metadata": {},
          "execution_count": 4
        }
      ]
    },
    {
      "cell_type": "markdown",
      "source": [
        "Fibonacci starting from any two numbers"
      ],
      "metadata": {
        "id": "j6h-XnY9IFrD"
      }
    },
    {
      "cell_type": "code",
      "source": [
        "def fibonacci(a,b,n):\n",
        "  fib_seq = [a,b]\n",
        "  for _ in range(n-2):\n",
        "    next = fib_seq[-1] + fib_seq[-2]\n",
        "    fib_seq.append(next)\n",
        "  return fib_seq\n",
        "fibonacci(2,5,8)"
      ],
      "metadata": {
        "colab": {
          "base_uri": "https://localhost:8080/"
        },
        "id": "OcMaxRsAIGee",
        "outputId": "9a61bf00-63fd-480d-c3f8-93da46657dca"
      },
      "execution_count": null,
      "outputs": [
        {
          "output_type": "execute_result",
          "data": {
            "text/plain": [
              "[2, 5, 7, 12, 19, 31, 50, 81]"
            ]
          },
          "metadata": {},
          "execution_count": 5
        }
      ]
    },
    {
      "cell_type": "markdown",
      "source": [
        "Upper case to Lower case"
      ],
      "metadata": {
        "id": "nQ_zqweIIuJT"
      }
    },
    {
      "cell_type": "code",
      "source": [
        "def uptolow(string):\n",
        "  return string.lower()\n",
        "uptolow(\"HELLO\")"
      ],
      "metadata": {
        "colab": {
          "base_uri": "https://localhost:8080/",
          "height": 36
        },
        "id": "MSeaO0T8IuxB",
        "outputId": "0b7a96e1-8e19-4130-dcba-4767f3c7c746"
      },
      "execution_count": null,
      "outputs": [
        {
          "output_type": "execute_result",
          "data": {
            "text/plain": [
              "'hello'"
            ],
            "application/vnd.google.colaboratory.intrinsic+json": {
              "type": "string"
            }
          },
          "metadata": {},
          "execution_count": 6
        }
      ]
    },
    {
      "cell_type": "markdown",
      "source": [
        "Lower to upper"
      ],
      "metadata": {
        "id": "_K3OPEWoJDnl"
      }
    },
    {
      "cell_type": "code",
      "source": [
        "def lowtoup(string):\n",
        "  return string.upper()\n",
        "lowtoup(\"hello\")"
      ],
      "metadata": {
        "colab": {
          "base_uri": "https://localhost:8080/",
          "height": 36
        },
        "id": "ejdUkYtdJEMt",
        "outputId": "3fdf8c9f-cd43-4d79-f840-1101f80f4cd1"
      },
      "execution_count": null,
      "outputs": [
        {
          "output_type": "execute_result",
          "data": {
            "text/plain": [
              "'HELLO'"
            ],
            "application/vnd.google.colaboratory.intrinsic+json": {
              "type": "string"
            }
          },
          "metadata": {},
          "execution_count": 7
        }
      ]
    },
    {
      "cell_type": "markdown",
      "source": [
        "LCM & GCD"
      ],
      "metadata": {
        "id": "pD4nrArBL_3C"
      }
    },
    {
      "cell_type": "markdown",
      "source": [],
      "metadata": {
        "id": "c7dGplKDNKqY"
      }
    },
    {
      "cell_type": "code",
      "source": [
        "import math\n",
        "\n",
        "x = 20\n",
        "y = 25\n",
        "\n",
        "if x > y:\n",
        "  x,y = y,x\n",
        "for i in range(1,x+1):\n",
        "  if x%i ==0 and y%i ==0:\n",
        "    gcd = i\n",
        "lcm = (x*y)//gcd\n",
        "print(lcm)"
      ],
      "metadata": {
        "colab": {
          "base_uri": "https://localhost:8080/"
        },
        "id": "ssi3DEmwMAhT",
        "outputId": "7fcf9e57-996b-4bc9-c2e0-76b53b663c2a"
      },
      "execution_count": null,
      "outputs": [
        {
          "output_type": "stream",
          "name": "stdout",
          "text": [
            "100\n"
          ]
        }
      ]
    },
    {
      "cell_type": "code",
      "source": [
        "import math\n",
        "\n",
        "x = 20\n",
        "y = 25\n",
        "lcm = (x*y) // math.gcd(20,25)\n",
        "gcd = math.gcd(20,25)\n",
        "\n",
        "print(lcm,gcd)"
      ],
      "metadata": {
        "colab": {
          "base_uri": "https://localhost:8080/"
        },
        "id": "BICyNK9FMhqx",
        "outputId": "4aec1e86-83b8-45de-a2ff-b0ed2fcbaa7d"
      },
      "execution_count": null,
      "outputs": [
        {
          "output_type": "stream",
          "name": "stdout",
          "text": [
            "100 5\n"
          ]
        }
      ]
    },
    {
      "cell_type": "markdown",
      "source": [
        "Prime numbers between two ranges"
      ],
      "metadata": {
        "id": "2AjtKs84NONG"
      }
    },
    {
      "cell_type": "code",
      "source": [
        "def is_prime(num):\n",
        "  if num < 2:\n",
        "    return False\n",
        "  for i in range(2,int(num**0.5)+1):\n",
        "    if num % i ==0:\n",
        "      return False\n",
        "  return True\n",
        "def prime(start,end):\n",
        "  for i in range(start,end+1):\n",
        "    if is_prime(i) == True:\n",
        "      print(i)\n",
        "prime(2,20)"
      ],
      "metadata": {
        "colab": {
          "base_uri": "https://localhost:8080/"
        },
        "id": "AkKsGVceNSqh",
        "outputId": "5fbce370-fcc4-4fbf-ed65-a93c62881d48"
      },
      "execution_count": null,
      "outputs": [
        {
          "output_type": "stream",
          "name": "stdout",
          "text": [
            "2\n",
            "3\n",
            "5\n",
            "7\n",
            "11\n",
            "13\n",
            "17\n",
            "19\n"
          ]
        }
      ]
    },
    {
      "cell_type": "markdown",
      "source": [
        "Factors of a number"
      ],
      "metadata": {
        "id": "wLh8LxU8QVfO"
      }
    },
    {
      "cell_type": "code",
      "source": [
        "def factors(n):\n",
        "  factors = []\n",
        "  for i in range(1,n+1):\n",
        "    if n % i == 0:\n",
        "      factors.append(i)\n",
        "  return factors\n",
        "factors(24)"
      ],
      "metadata": {
        "colab": {
          "base_uri": "https://localhost:8080/"
        },
        "id": "PKMNt80AQWRa",
        "outputId": "7e9a566c-1189-4cd6-97d7-1c30609e4843"
      },
      "execution_count": null,
      "outputs": [
        {
          "output_type": "execute_result",
          "data": {
            "text/plain": [
              "[1, 2, 3, 4, 6, 8, 12, 24]"
            ]
          },
          "metadata": {},
          "execution_count": 23
        }
      ]
    },
    {
      "cell_type": "markdown",
      "source": [
        "Prime Factors"
      ],
      "metadata": {
        "id": "IfOYPDpqRHH0"
      }
    },
    {
      "cell_type": "code",
      "source": [
        "def is_prime(num):\n",
        "  if num <2:\n",
        "    return False\n",
        "  for i in range(2,int(num**0.5)+1):\n",
        "    if num%i==0:\n",
        "      return False\n",
        "  return True\n",
        "def prime_fact(n):\n",
        "  factors = []\n",
        "  for i in range(2,n+1):\n",
        "    if is_prime(i) and n%i == 0:\n",
        "      factors.append(i)\n",
        "  return factors\n",
        "prime_fact(24)\n"
      ],
      "metadata": {
        "colab": {
          "base_uri": "https://localhost:8080/"
        },
        "id": "dKBQ4w7wRHte",
        "outputId": "0c582227-16c4-48cc-a60c-578093b158bf"
      },
      "execution_count": null,
      "outputs": [
        {
          "output_type": "execute_result",
          "data": {
            "text/plain": [
              "[2, 3]"
            ]
          },
          "metadata": {},
          "execution_count": 25
        }
      ]
    },
    {
      "cell_type": "markdown",
      "source": [
        "Count the number of digit in an integer"
      ],
      "metadata": {
        "id": "Ry14XYZ5UUoj"
      }
    },
    {
      "cell_type": "code",
      "source": [
        "def count(x):\n",
        "  return len(str(x))\n",
        "count(1234)"
      ],
      "metadata": {
        "colab": {
          "base_uri": "https://localhost:8080/"
        },
        "id": "QoPBdrLBUVay",
        "outputId": "813759d8-5afc-45c5-9bde-70e5c52f50d6"
      },
      "execution_count": null,
      "outputs": [
        {
          "output_type": "execute_result",
          "data": {
            "text/plain": [
              "4"
            ]
          },
          "metadata": {},
          "execution_count": 28
        }
      ]
    },
    {
      "cell_type": "markdown",
      "source": [
        "Bin to dec and oct"
      ],
      "metadata": {
        "id": "w459Aj0qU_sJ"
      }
    },
    {
      "cell_type": "code",
      "source": [
        "def bdo(x):\n",
        "  dec = int(x)\n",
        "  octa = oct(x)\n",
        "  return dec,octa\n",
        "bdo(101010)"
      ],
      "metadata": {
        "colab": {
          "base_uri": "https://localhost:8080/"
        },
        "id": "Z6nNEjU8VAUX",
        "outputId": "c0851c58-cc1c-4069-9b0b-389ba311f58b"
      },
      "execution_count": null,
      "outputs": [
        {
          "output_type": "execute_result",
          "data": {
            "text/plain": [
              "(101010, '0o305222')"
            ]
          },
          "metadata": {},
          "execution_count": 31
        }
      ]
    },
    {
      "cell_type": "markdown",
      "source": [
        "Reverse the digits of given number"
      ],
      "metadata": {
        "id": "fUMFLMy2V135"
      }
    },
    {
      "cell_type": "code",
      "source": [
        "def reverse(x):\n",
        "  x = str(x)\n",
        "  return int(x[::-1])\n",
        "reverse(1234)"
      ],
      "metadata": {
        "colab": {
          "base_uri": "https://localhost:8080/"
        },
        "id": "N-GXdwNVV8Me",
        "outputId": "e7cf6384-1583-4f20-9b4b-ed856369843f"
      },
      "execution_count": null,
      "outputs": [
        {
          "output_type": "execute_result",
          "data": {
            "text/plain": [
              "4321"
            ]
          },
          "metadata": {},
          "execution_count": 34
        }
      ]
    },
    {
      "cell_type": "markdown",
      "source": [
        "Number palindrome"
      ],
      "metadata": {
        "id": "4uaAzKZVW9it"
      }
    },
    {
      "cell_type": "code",
      "source": [
        "def palindrome(x):\n",
        "  x = str(x)\n",
        "  if x == x[::-1]:\n",
        "    print('palindrome')\n",
        "  else:\n",
        "    print(\"not\")\n",
        "palindrome(121)"
      ],
      "metadata": {
        "colab": {
          "base_uri": "https://localhost:8080/"
        },
        "id": "Pw3FuVzjW-Sb",
        "outputId": "f0b054f4-2a6b-4b25-8005-e53e4109b858"
      },
      "execution_count": null,
      "outputs": [
        {
          "output_type": "stream",
          "name": "stdout",
          "text": [
            "palindrome\n"
          ]
        }
      ]
    },
    {
      "cell_type": "markdown",
      "source": [
        "Digit summation"
      ],
      "metadata": {
        "id": "GezGvfnwXqzQ"
      }
    },
    {
      "cell_type": "code",
      "source": [
        "def digitsum(x):\n",
        "  total = 0\n",
        "  x = str(x)\n",
        "  for i in x:\n",
        "    total = total + int(i)\n",
        "  return total\n",
        "digitsum(123)\n",
        "\n"
      ],
      "metadata": {
        "colab": {
          "base_uri": "https://localhost:8080/"
        },
        "id": "aoQpfOJZXs1F",
        "outputId": "97dd7ac0-a133-4810-987d-168f48246d0d"
      },
      "execution_count": null,
      "outputs": [
        {
          "output_type": "execute_result",
          "data": {
            "text/plain": [
              "6"
            ]
          },
          "metadata": {},
          "execution_count": 38
        }
      ]
    },
    {
      "cell_type": "code",
      "source": [
        "def digitsum2(x):\n",
        "  total = 0\n",
        "  while x>0:\n",
        "    total += x%10\n",
        "    x//=10\n",
        "  return total\n",
        "digitsum2(123)"
      ],
      "metadata": {
        "colab": {
          "base_uri": "https://localhost:8080/"
        },
        "id": "DCIeAGW4Yh13",
        "outputId": "24598f12-0141-4941-a8c7-57052be81cb3"
      },
      "execution_count": null,
      "outputs": [
        {
          "output_type": "execute_result",
          "data": {
            "text/plain": [
              "6"
            ]
          },
          "metadata": {},
          "execution_count": 39
        }
      ]
    },
    {
      "cell_type": "markdown",
      "source": [
        "Amstrong checking"
      ],
      "metadata": {
        "id": "JIEEBB1wZqMU"
      }
    },
    {
      "cell_type": "code",
      "source": [
        "def amstrong(x):\n",
        "  temp = x\n",
        "  total = 0\n",
        "  while x>0:\n",
        "    digit = x%10\n",
        "    total += digit**3\n",
        "    x//=10\n",
        "  if temp == total:\n",
        "    print(\"arm\")\n",
        "  else:\n",
        "    print(\"not\")\n",
        "amstrong(153)"
      ],
      "metadata": {
        "colab": {
          "base_uri": "https://localhost:8080/"
        },
        "id": "wGuXnRXRZq-t",
        "outputId": "a353eee3-da7a-4f3a-bfba-422b16ea5177"
      },
      "execution_count": null,
      "outputs": [
        {
          "output_type": "stream",
          "name": "stdout",
          "text": [
            "arm\n"
          ]
        }
      ]
    },
    {
      "cell_type": "markdown",
      "source": [
        "Largest among N numbers in an array"
      ],
      "metadata": {
        "id": "ftI6mYoE9d3w"
      }
    },
    {
      "cell_type": "code",
      "source": [
        "def largest(arr):\n",
        "  largest = 0\n",
        "  for i in arr:\n",
        "    if i > largest:\n",
        "      largest =i\n",
        "  print(largest)\n",
        "arr = [2,13,1,2,6,9]\n",
        "largest(arr)"
      ],
      "metadata": {
        "colab": {
          "base_uri": "https://localhost:8080/"
        },
        "id": "ly0vYQjU8SRh",
        "outputId": "ffa0bad2-5799-4fb1-bbc9-4ea1bd1e9687"
      },
      "execution_count": null,
      "outputs": [
        {
          "output_type": "stream",
          "name": "stdout",
          "text": [
            "13\n"
          ]
        }
      ]
    },
    {
      "cell_type": "code",
      "source": [
        "from google.colab import drive\n",
        "drive.mount('/content/drive')"
      ],
      "metadata": {
        "id": "qGm7pNKD-r6j"
      },
      "execution_count": null,
      "outputs": []
    },
    {
      "cell_type": "markdown",
      "source": [
        "# New Section"
      ],
      "metadata": {
        "id": "6gQf62K-_AQ9"
      }
    },
    {
      "cell_type": "markdown",
      "source": [
        "Smallest among N numbers in an array"
      ],
      "metadata": {
        "id": "qPrqHuRx-zq6"
      }
    },
    {
      "cell_type": "code",
      "source": [
        "def smallest(arr):\n",
        "  small = arr[0]\n",
        "  for i in range(1,len(arr)-1):\n",
        "    if arr[i] < small:\n",
        "      small = arr[i]\n",
        "  print(small)\n",
        "arr = [2,13,1,2,6,9]\n",
        "smallest(arr)"
      ],
      "metadata": {
        "colab": {
          "base_uri": "https://localhost:8080/"
        },
        "id": "rGV1egp--2Rj",
        "outputId": "832f5b61-2277-4c46-ee19-dfc185734b06"
      },
      "execution_count": null,
      "outputs": [
        {
          "output_type": "stream",
          "name": "stdout",
          "text": [
            "1\n"
          ]
        }
      ]
    },
    {
      "cell_type": "markdown",
      "source": [
        "Reverse the array elements"
      ],
      "metadata": {
        "id": "4jEHhX6SAEch"
      }
    },
    {
      "cell_type": "code",
      "source": [
        "def reverse(arr):\n",
        "  left = 0\n",
        "  right = len(arr)-1\n",
        "  while left < right:\n",
        "    temp = arr[left]\n",
        "    arr[left] = arr[right]\n",
        "    arr[right] = temp\n",
        "    left +=1\n",
        "    right -=1\n",
        "  print(arr)\n",
        "arr = [2,13,1,2,6,9]\n",
        "reverse(arr)"
      ],
      "metadata": {
        "colab": {
          "base_uri": "https://localhost:8080/"
        },
        "id": "FA5-DlsiAGY0",
        "outputId": "bf357cff-71be-4a10-97af-1802a54cfddb"
      },
      "execution_count": null,
      "outputs": [
        {
          "output_type": "stream",
          "name": "stdout",
          "text": [
            "[9, 6, 2, 1, 13, 2]\n"
          ]
        }
      ]
    },
    {
      "cell_type": "markdown",
      "source": [
        "Insert an element in an array"
      ],
      "metadata": {
        "id": "gzCvjhh9B9Rb"
      }
    },
    {
      "cell_type": "code",
      "source": [
        "def insertele(arr,x):\n",
        "  arr.append(x)\n",
        "  print(arr)\n",
        "arr = [2,13,1,2,6,9]\n",
        "insertele(arr,23)"
      ],
      "metadata": {
        "colab": {
          "base_uri": "https://localhost:8080/"
        },
        "id": "ocR9lZxgB-D7",
        "outputId": "a647c6cf-7e27-453c-b436-1ad74a6d3a6a"
      },
      "execution_count": null,
      "outputs": [
        {
          "output_type": "stream",
          "name": "stdout",
          "text": [
            "[2, 13, 1, 2, 6, 9, 23]\n"
          ]
        }
      ]
    },
    {
      "cell_type": "markdown",
      "source": [
        "Deleting an array element\n"
      ],
      "metadata": {
        "id": "HyeyrAnIIf5a"
      }
    },
    {
      "cell_type": "code",
      "source": [
        "def delete(arr,x):\n",
        "  if x in arr:\n",
        "    arr.remove(x)\n",
        "  print(arr)\n",
        "arr = [2,13,1,2,6,9]\n",
        "delete(arr,9)"
      ],
      "metadata": {
        "colab": {
          "base_uri": "https://localhost:8080/"
        },
        "id": "KH0k5PEQIguJ",
        "outputId": "174bd88d-d77a-47e6-abe6-e8e5398032c8"
      },
      "execution_count": null,
      "outputs": [
        {
          "output_type": "stream",
          "name": "stdout",
          "text": [
            "[2, 13, 1, 2, 6]\n"
          ]
        }
      ]
    },
    {
      "cell_type": "markdown",
      "source": [
        "Duplication removal\n",
        "\n"
      ],
      "metadata": {
        "id": "olsxG3hMJOow"
      }
    },
    {
      "cell_type": "code",
      "source": [
        "from collections import Counter\n",
        "def duplicate(arr):\n",
        "  res = Counter(arr)\n",
        "  temp = [*res]\n",
        "  print(temp)\n",
        "arr = [2,13,1,2,6,9]\n",
        "\n",
        "duplicate(arr)\n"
      ],
      "metadata": {
        "colab": {
          "base_uri": "https://localhost:8080/"
        },
        "id": "M8DDQN38JSNO",
        "outputId": "bbd1a907-0309-4a91-9771-9e68bcb742b4"
      },
      "execution_count": null,
      "outputs": [
        {
          "output_type": "stream",
          "name": "stdout",
          "text": [
            "[2, 13, 1, 6, 9]\n"
          ]
        }
      ]
    },
    {
      "cell_type": "markdown",
      "source": [
        "Linear Search"
      ],
      "metadata": {
        "id": "JO2DWaQeNM7t"
      }
    },
    {
      "cell_type": "code",
      "source": [
        "def linear(arr,x):\n",
        "  for i in range(len(arr)-1):\n",
        "    if arr[i] == x:\n",
        "      return i\n",
        "linear([2,13,1,2,6,9],6)"
      ],
      "metadata": {
        "colab": {
          "base_uri": "https://localhost:8080/"
        },
        "id": "m66ghXbXNQUW",
        "outputId": "8da7156e-ff35-4cbf-d7ba-53dbee7a2bd6"
      },
      "execution_count": null,
      "outputs": [
        {
          "output_type": "execute_result",
          "data": {
            "text/plain": [
              "4"
            ]
          },
          "metadata": {},
          "execution_count": 1
        }
      ]
    },
    {
      "cell_type": "markdown",
      "source": [
        "Binary search\n"
      ],
      "metadata": {
        "id": "1GD0UGAH7DvI"
      }
    },
    {
      "cell_type": "code",
      "source": [
        "def binary(arr,x):\n",
        "  low = 0\n",
        "  high = len(arr)-1\n",
        "  while high >= low:\n",
        "    mid = (high+low)//2\n",
        "    if arr[mid] ==x:\n",
        "      return mid\n",
        "    elif x > arr[mid]:\n",
        "      low = mid+1\n",
        "    elif x < arr[mid]:\n",
        "      high = mid-1\n",
        "  return -1\n",
        "binary([2,13,1,2,6,9],6)"
      ],
      "metadata": {
        "colab": {
          "base_uri": "https://localhost:8080/"
        },
        "id": "_u_CGR4G7GW3",
        "outputId": "f1a3fe63-44d5-4ae0-ad6a-88f902468734"
      },
      "execution_count": null,
      "outputs": [
        {
          "output_type": "execute_result",
          "data": {
            "text/plain": [
              "4"
            ]
          },
          "metadata": {},
          "execution_count": 3
        }
      ]
    },
    {
      "cell_type": "code",
      "source": [
        "def binarysearch(arr,x,low,high):\n",
        "  while high >= low:\n",
        "    mid = (high + low)//2\n",
        "    if arr[mid] == x:\n",
        "      return mid\n",
        "    elif x > arr[mid]:\n",
        "      return binarysearch(arr,x,mid+1,high)\n",
        "    elif x < arr[mid]:\n",
        "      return binarysearch(arr,x,low,mid-1)\n",
        "  return -1\n",
        "arr = [2,13,1,2,6,9]\n",
        "binarysearch(arr,6,0,len(arr)-1)"
      ],
      "metadata": {
        "colab": {
          "base_uri": "https://localhost:8080/"
        },
        "id": "xnc6C9QC8VGo",
        "outputId": "60233140-7f78-4f36-ec0d-9d638fa7e856"
      },
      "execution_count": null,
      "outputs": [
        {
          "output_type": "execute_result",
          "data": {
            "text/plain": [
              "4"
            ]
          },
          "metadata": {},
          "execution_count": 13
        }
      ]
    },
    {
      "cell_type": "markdown",
      "source": [
        "Split the sorted array"
      ],
      "metadata": {
        "id": "nB7cEFOS_lUb"
      }
    },
    {
      "cell_type": "code",
      "source": [
        "def split(arr,s):\n",
        "  for i in range(0,s):\n",
        "    x = arr[0]\n",
        "    for j in range(0,len(arr)-1):\n",
        "      arr[j] = arr[j+1]\n",
        "    arr[len(arr)-1] = x\n",
        "  return arr\n",
        "\n",
        "arr = [2,13,1,2,6,9]\n",
        "split(arr,2)\n",
        "\n",
        "\n"
      ],
      "metadata": {
        "colab": {
          "base_uri": "https://localhost:8080/"
        },
        "id": "1sQy5km9_mAH",
        "outputId": "cab3bedd-50e6-41ee-a211-d7474ccef840"
      },
      "execution_count": null,
      "outputs": [
        {
          "output_type": "execute_result",
          "data": {
            "text/plain": [
              "[1, 2, 6, 9, 2, 13]"
            ]
          },
          "metadata": {},
          "execution_count": 20
        }
      ]
    },
    {
      "cell_type": "markdown",
      "source": [
        "Sort an array"
      ],
      "metadata": {
        "id": "Q6amy-OJBM-C"
      }
    },
    {
      "cell_type": "code",
      "source": [
        "def sortarr(arr):\n",
        "  l = 0\n",
        "  le = len(arr)\n",
        "  while l < le-1:\n",
        "    if (arr[l] > arr[l+1]):\n",
        "      temp = arr[l]\n",
        "      arr[l] = arr[l+1]\n",
        "      arr[l+1] = temp\n",
        "      l = -1\n",
        "    l+=1\n",
        "\n",
        "  return arr\n",
        "arr = [2,13,1,2,6,9]\n",
        "sortarr(arr)\n",
        "\n"
      ],
      "metadata": {
        "colab": {
          "base_uri": "https://localhost:8080/"
        },
        "id": "-xW9ht2SC69S",
        "outputId": "d0cda5bd-ac1b-4fe2-8f9c-3334dcb19636"
      },
      "execution_count": null,
      "outputs": [
        {
          "output_type": "execute_result",
          "data": {
            "text/plain": [
              "[1, 2, 2, 6, 9, 13]"
            ]
          },
          "metadata": {},
          "execution_count": 32
        }
      ]
    },
    {
      "cell_type": "markdown",
      "source": [
        "Factorial using recursive function"
      ],
      "metadata": {
        "id": "w6rJ3kYLXDiM"
      }
    },
    {
      "cell_type": "code",
      "source": [
        "def fact(n):\n",
        "  factorial = 1\n",
        "  if n==0 or n==1:\n",
        "    return 1\n",
        "  while n >1:\n",
        "    factorial *=n\n",
        "    n-=1\n",
        "  return factorial\n",
        "\n",
        "\n",
        "fact(7)"
      ],
      "metadata": {
        "colab": {
          "base_uri": "https://localhost:8080/"
        },
        "id": "CYhJQQLYXESn",
        "outputId": "1a17819e-5a54-49cd-f3f2-789a33600754"
      },
      "execution_count": null,
      "outputs": [
        {
          "output_type": "execute_result",
          "data": {
            "text/plain": [
              "5040"
            ]
          },
          "metadata": {},
          "execution_count": 5
        }
      ]
    },
    {
      "cell_type": "markdown",
      "source": [
        "Fibonacci using recursive function"
      ],
      "metadata": {
        "id": "KkoIuooMZhJK"
      }
    },
    {
      "cell_type": "code",
      "source": [
        "def fib(n):\n",
        "  if n<=1:\n",
        "    return n\n",
        "  return (fib(n-1)+fib(n-2))\n",
        "n=10\n",
        "for i in range(n):\n",
        "  print(fib(i))\n"
      ],
      "metadata": {
        "colab": {
          "base_uri": "https://localhost:8080/"
        },
        "id": "jTNWJ_S9Zh6s",
        "outputId": "381ad61a-38ca-4722-d597-4d76e26e6115"
      },
      "execution_count": null,
      "outputs": [
        {
          "output_type": "stream",
          "name": "stdout",
          "text": [
            "0\n",
            "1\n",
            "1\n",
            "2\n",
            "3\n",
            "5\n",
            "8\n",
            "13\n",
            "21\n",
            "34\n"
          ]
        }
      ]
    },
    {
      "cell_type": "markdown",
      "source": [
        "Sum of N numbers using recursion"
      ],
      "metadata": {
        "id": "dbIexKt_a4fW"
      }
    },
    {
      "cell_type": "code",
      "source": [
        "def sumofn(n):\n",
        "  if n <=1 :\n",
        "    return n\n",
        "  return n + sumofn(n-1)\n",
        "n = 16\n",
        "\n",
        "print(sumofn(n))\n"
      ],
      "metadata": {
        "colab": {
          "base_uri": "https://localhost:8080/"
        },
        "id": "K2Ki_G5sa5be",
        "outputId": "abc29012-1874-4e4f-ef12-d31e59d4eca3"
      },
      "execution_count": null,
      "outputs": [
        {
          "output_type": "stream",
          "name": "stdout",
          "text": [
            "136\n"
          ]
        }
      ]
    },
    {
      "cell_type": "markdown",
      "source": [
        "Reverse the sentence using recursion"
      ],
      "metadata": {
        "id": "e6vrJxgUc_-u"
      }
    },
    {
      "cell_type": "code",
      "source": [
        "def rev(s):\n",
        "  if len(s)==0:\n",
        "    return s\n",
        "  return rev(s[1:])+s[0]\n",
        "rev(\"sath\")"
      ],
      "metadata": {
        "colab": {
          "base_uri": "https://localhost:8080/",
          "height": 36
        },
        "id": "8kl_7oSvdAsM",
        "outputId": "59eb0bb4-bcce-4535-c1b5-1d5d0d975e76"
      },
      "execution_count": null,
      "outputs": [
        {
          "output_type": "execute_result",
          "data": {
            "text/plain": [
              "'htas'"
            ],
            "application/vnd.google.colaboratory.intrinsic+json": {
              "type": "string"
            }
          },
          "metadata": {},
          "execution_count": 16
        }
      ]
    },
    {
      "cell_type": "code",
      "source": [
        "s = \"sath\"\n",
        "print(s[::-1])"
      ],
      "metadata": {
        "colab": {
          "base_uri": "https://localhost:8080/"
        },
        "id": "TVPjkVHOeJzS",
        "outputId": "761147df-8754-4b8c-aadc-6936ff21c47c"
      },
      "execution_count": null,
      "outputs": [
        {
          "output_type": "stream",
          "name": "stdout",
          "text": [
            "htas\n"
          ]
        }
      ]
    },
    {
      "cell_type": "markdown",
      "source": [
        "Program to Count Blanks,Tabs and Newlines"
      ],
      "metadata": {
        "id": "fI1Ue6VOiuUG"
      }
    },
    {
      "cell_type": "code",
      "source": [],
      "metadata": {
        "id": "7ZtXF_9Uiu8S"
      },
      "execution_count": null,
      "outputs": []
    },
    {
      "cell_type": "markdown",
      "source": [
        "Palindrome checking"
      ],
      "metadata": {
        "id": "xsIqhDeCjWl5"
      }
    },
    {
      "cell_type": "code",
      "source": [
        "s = \"abc\"\n",
        "new = s[::-1]\n",
        "print(s[::-1])\n",
        "if s != new:\n",
        "  print(\"palindrome\")\n",
        "else:\n",
        "  print(\"not\")"
      ],
      "metadata": {
        "colab": {
          "base_uri": "https://localhost:8080/"
        },
        "id": "ZRi2SYXrjXW1",
        "outputId": "d4863d65-2d91-4515-923c-afe3343b0c3c"
      },
      "execution_count": null,
      "outputs": [
        {
          "output_type": "stream",
          "name": "stdout",
          "text": [
            "cba\n",
            "palindrome\n"
          ]
        }
      ]
    },
    {
      "cell_type": "markdown",
      "source": [
        "convert a name into its ascii values."
      ],
      "metadata": {
        "id": "yN6V0UxfkPNk"
      }
    },
    {
      "cell_type": "code",
      "source": [
        "a = \"sat\"\n",
        "for i in a:\n",
        "  print(ord(i))"
      ],
      "metadata": {
        "colab": {
          "base_uri": "https://localhost:8080/"
        },
        "id": "8VVr5ar1kP4l",
        "outputId": "aed28251-e47a-4683-8985-a260bd1db900"
      },
      "execution_count": null,
      "outputs": [
        {
          "output_type": "stream",
          "name": "stdout",
          "text": [
            "115\n",
            "97\n",
            "116\n"
          ]
        }
      ]
    },
    {
      "cell_type": "markdown",
      "source": [
        "calculating string length without strlen function"
      ],
      "metadata": {
        "id": "QGeud8yikjE6"
      }
    },
    {
      "cell_type": "code",
      "source": [
        "s = input(\"\")\n",
        "count = 0\n",
        "for i in s:\n",
        "  count +=1\n",
        "print(count)\n"
      ],
      "metadata": {
        "colab": {
          "base_uri": "https://localhost:8080/"
        },
        "id": "QPLPvPJ0kjt8",
        "outputId": "82def595-70ea-4ac3-970b-e74b57572bdf"
      },
      "execution_count": null,
      "outputs": [
        {
          "output_type": "stream",
          "name": "stdout",
          "text": [
            "sath\n",
            "4\n"
          ]
        }
      ]
    },
    {
      "cell_type": "markdown",
      "source": [
        "comparing 2 strings without strcmp function"
      ],
      "metadata": {
        "id": "xyqwnPzxlQA_"
      }
    },
    {
      "cell_type": "code",
      "source": [
        "a = input('')\n",
        "b = input(\"\")\n",
        "\n",
        "if a == b:\n",
        "  print(\"same\")\n",
        "else:\n",
        "  print(\"not\")"
      ],
      "metadata": {
        "colab": {
          "base_uri": "https://localhost:8080/"
        },
        "id": "eQaUvuxilQvn",
        "outputId": "2a6616c0-d6bb-4579-ad41-bc06888c490d"
      },
      "execution_count": null,
      "outputs": [
        {
          "output_type": "stream",
          "name": "stdout",
          "text": [
            "sat\n",
            "sat\n",
            "same\n"
          ]
        }
      ]
    },
    {
      "cell_type": "markdown",
      "source": [
        "string concatenation without using strcat function"
      ],
      "metadata": {
        "id": "AuzPE243oEK4"
      }
    },
    {
      "cell_type": "code",
      "source": [
        "a = input(\"\")\n",
        "b= input(\"\")\n",
        "\n",
        "print(a+b)"
      ],
      "metadata": {
        "colab": {
          "base_uri": "https://localhost:8080/"
        },
        "id": "Q9jMcdccoFGp",
        "outputId": "7778cd1d-5905-4504-84bc-27c327269f4b"
      },
      "execution_count": null,
      "outputs": [
        {
          "output_type": "stream",
          "name": "stdout",
          "text": [
            "sa\n",
            "th\n",
            "sath\n"
          ]
        }
      ]
    },
    {
      "cell_type": "markdown",
      "source": [
        "Finding vowels"
      ],
      "metadata": {
        "id": "Dq7bQ4x7oy9X"
      }
    },
    {
      "cell_type": "code",
      "source": [
        "vowels = \"aeiouAEIOU\"\n",
        "count = 0\n",
        "ip = input(\"\")\n",
        "for i in ip:\n",
        "  if i in vowels:\n",
        "    count +=1\n",
        "print(count)\n",
        "\n"
      ],
      "metadata": {
        "colab": {
          "base_uri": "https://localhost:8080/"
        },
        "id": "3iz3IQL7ozuE",
        "outputId": "fe063eaa-abed-42eb-8ff1-8c48fd0cd9cd"
      },
      "execution_count": null,
      "outputs": [
        {
          "output_type": "stream",
          "name": "stdout",
          "text": [
            "helpa\n",
            "2\n"
          ]
        }
      ]
    },
    {
      "cell_type": "markdown",
      "source": [
        "Sorting in alphabetical order\n",
        "\n",
        "\n"
      ],
      "metadata": {
        "id": "zx0KlXzqquwc"
      }
    },
    {
      "cell_type": "code",
      "source": [
        "s= input(\"\")\n",
        "words = [s.lower() for word in s.split(\" \")]\n",
        "print(words)\n"
      ],
      "metadata": {
        "colab": {
          "base_uri": "https://localhost:8080/"
        },
        "id": "H8A9LwF5qxjJ",
        "outputId": "0d71b520-c2bf-47c4-edbb-452e3e092528"
      },
      "execution_count": null,
      "outputs": [
        {
          "output_type": "stream",
          "name": "stdout",
          "text": [
            "sat\n",
            "['sat']\n"
          ]
        }
      ]
    },
    {
      "cell_type": "markdown",
      "source": [
        "Searching sub string in a string"
      ],
      "metadata": {
        "id": "V2gsoTJFvRrL"
      }
    },
    {
      "cell_type": "code",
      "source": [
        "a = input(\"\")\n",
        "b = input(\"\")\n",
        "\n",
        "if b in a:\n",
        "  print(\"sub\")\n",
        "else:\n",
        "  print(\"not\")"
      ],
      "metadata": {
        "colab": {
          "base_uri": "https://localhost:8080/"
        },
        "id": "z9rK3zf3vSiC",
        "outputId": "d54d51af-d84b-48ce-8e76-9a1a2fc5982e"
      },
      "execution_count": null,
      "outputs": [
        {
          "output_type": "stream",
          "name": "stdout",
          "text": [
            "sath\n",
            "sa\n",
            "sub\n"
          ]
        }
      ]
    },
    {
      "cell_type": "markdown",
      "source": [
        "Find the frequency of a character in a string"
      ],
      "metadata": {
        "id": "0GTzkZEYyw_u"
      }
    },
    {
      "cell_type": "code",
      "source": [
        "from collections import Counter\n",
        "a = input(\"\")\n",
        "seen = {}\n",
        "for i in a:\n",
        "  if i in seen:\n",
        "    seen[i] +=1\n",
        "  else:\n",
        "    seen[i] = 1\n",
        "print(seen)"
      ],
      "metadata": {
        "colab": {
          "base_uri": "https://localhost:8080/"
        },
        "id": "IjxLNOfqyxt_",
        "outputId": "b06ad801-376b-4444-e6a8-778f0ee45e6e"
      },
      "execution_count": null,
      "outputs": [
        {
          "output_type": "stream",
          "name": "stdout",
          "text": [
            "saha\n",
            "{'s': 1, 'a': 2, 'h': 1}\n"
          ]
        }
      ]
    },
    {
      "cell_type": "markdown",
      "source": [
        "Reverse the given string"
      ],
      "metadata": {
        "id": "LVLQX_yx1pjJ"
      }
    },
    {
      "cell_type": "code",
      "source": [
        "a = input(\"\")\n",
        "print(a[::-1])"
      ],
      "metadata": {
        "colab": {
          "base_uri": "https://localhost:8080/"
        },
        "id": "FRDv-QhL1uHM",
        "outputId": "a8b0b134-2d86-46be-a543-fc138bec7f5c"
      },
      "execution_count": null,
      "outputs": [
        {
          "output_type": "stream",
          "name": "stdout",
          "text": [
            "saha\n",
            "ahas\n"
          ]
        }
      ]
    },
    {
      "cell_type": "markdown",
      "source": [
        "Area of circle using pointers"
      ],
      "metadata": {
        "id": "AI4Xhisz2KUp"
      }
    },
    {
      "cell_type": "code",
      "source": [
        "import math as M\n",
        "r = int(input(\"\"))\n",
        "print(M.pi*r*r)"
      ],
      "metadata": {
        "colab": {
          "base_uri": "https://localhost:8080/"
        },
        "id": "rkpmmuKa2K_3",
        "outputId": "26081f07-6adc-46b5-d571-97f467a4f5d7"
      },
      "execution_count": null,
      "outputs": [
        {
          "output_type": "stream",
          "name": "stdout",
          "text": [
            "3\n",
            "28.274333882308138\n"
          ]
        }
      ]
    },
    {
      "cell_type": "markdown",
      "source": [
        "duplication removal using pointers"
      ],
      "metadata": {
        "id": "0MS3cBuk3Fkm"
      }
    },
    {
      "cell_type": "code",
      "source": [
        "def removedup(nums):\n",
        "  i,j=0,0\n",
        "  seen = set()\n",
        "  while j < len(nums):\n",
        "    if nums[j] not in seen:\n",
        "      seen.add(nums[j])\n",
        "\n",
        "      i+=1\n",
        "    j+=1\n",
        "  return seen\n",
        "nums = [1,2,2,3,4,5]\n",
        "removedup(nums)"
      ],
      "metadata": {
        "colab": {
          "base_uri": "https://localhost:8080/"
        },
        "id": "RMW6J2eD3Gfq",
        "outputId": "c58e43ba-739a-4a9c-dbf1-28bffd954402"
      },
      "execution_count": null,
      "outputs": [
        {
          "output_type": "execute_result",
          "data": {
            "text/plain": [
              "{1, 2, 3, 4, 5}"
            ]
          },
          "metadata": {},
          "execution_count": 54
        }
      ]
    },
    {
      "cell_type": "markdown",
      "source": [
        "Sorting integer array using pointers"
      ],
      "metadata": {
        "id": "-zos7EfbBLuM"
      }
    },
    {
      "cell_type": "code",
      "source": [
        "def bubble_sort(arr):\n",
        "    n = len(arr)\n",
        "    for i in range(n):\n",
        "      for j in range(0,n-i-1):\n",
        "        if arr[j] > arr[j+1]:\n",
        "          arr[j],arr[j+1] = arr[j+1],arr[j]\n",
        "\n",
        "\n",
        "\n",
        "# Example usage:\n",
        "my_array = [64, 34, 25, 12, 22, 11, 9]\n",
        "bubble_sort(my_array)\n",
        "\n",
        "print(\"Sorted array:\", my_array)\n"
      ],
      "metadata": {
        "colab": {
          "base_uri": "https://localhost:8080/"
        },
        "id": "dRAs5WK0BMeM",
        "outputId": "9ed23841-ab78-4f26-97b7-357b000452a6"
      },
      "execution_count": null,
      "outputs": [
        {
          "output_type": "stream",
          "name": "stdout",
          "text": [
            "Sorted array: [9, 11, 12, 22, 25, 34, 64]\n"
          ]
        }
      ]
    },
    {
      "cell_type": "markdown",
      "source": [
        "Sum of array using pointers"
      ],
      "metadata": {
        "id": "ONr9SVnbFrac"
      }
    },
    {
      "cell_type": "code",
      "source": [
        "def sumpoiner(nums):\n",
        "  i,total = 0,0\n",
        "  while i <= len(nums)-1:\n",
        "    total += nums[i]\n",
        "    i+=1\n",
        "  return total\n",
        "my_array = [64, 34, 25, 12, 22, 11, 9]\n",
        "sumpoiner(my_array)"
      ],
      "metadata": {
        "colab": {
          "base_uri": "https://localhost:8080/"
        },
        "id": "TxCkBVCzFsIJ",
        "outputId": "3e359360-5513-4192-913d-424287db8dec"
      },
      "execution_count": null,
      "outputs": [
        {
          "output_type": "execute_result",
          "data": {
            "text/plain": [
              "177"
            ]
          },
          "metadata": {},
          "execution_count": 66
        }
      ]
    },
    {
      "cell_type": "markdown",
      "source": [
        "Count number of words using pointers"
      ],
      "metadata": {
        "id": "ntvQvA8ZGjlM"
      }
    },
    {
      "cell_type": "code",
      "source": [
        "def countword(s):\n",
        "  count = 0\n",
        "  isword = False\n",
        "\n",
        "  for i in s:\n",
        "    if i.isalnum():\n",
        "\n",
        "      isword = True\n",
        "      count +=1\n",
        "  return count\n",
        "countword(\"hi name\")\n"
      ],
      "metadata": {
        "colab": {
          "base_uri": "https://localhost:8080/"
        },
        "id": "OLEYR_VWGkQU",
        "outputId": "fb3a5d13-40f4-4607-88ad-62a8d8fa499c"
      },
      "execution_count": null,
      "outputs": [
        {
          "output_type": "execute_result",
          "data": {
            "text/plain": [
              "6"
            ]
          },
          "metadata": {},
          "execution_count": 68
        }
      ]
    },
    {
      "cell_type": "markdown",
      "source": [
        "Length of a string using pointers"
      ],
      "metadata": {
        "id": "FNf8ulESKLW-"
      }
    },
    {
      "cell_type": "code",
      "source": [
        "def lengthstring(s):\n",
        "  i,count = 0,0\n",
        "  for i in s:\n",
        "    count+=1\n",
        "  return count\n",
        "lengthstring(\"hi name\")"
      ],
      "metadata": {
        "colab": {
          "base_uri": "https://localhost:8080/"
        },
        "id": "lw3NWOZKKL9-",
        "outputId": "56abc01a-cb4a-4a1e-df94-ad71a50b8331"
      },
      "execution_count": null,
      "outputs": [
        {
          "output_type": "execute_result",
          "data": {
            "text/plain": [
              "7"
            ]
          },
          "metadata": {},
          "execution_count": 69
        }
      ]
    },
    {
      "cell_type": "markdown",
      "source": [
        "Reverse the String Using Pointers"
      ],
      "metadata": {
        "id": "W0Ob1gomLK3O"
      }
    },
    {
      "cell_type": "code",
      "source": [
        "def reverse(s):\n",
        "  i=0\n",
        "  stlist = list(s)\n",
        "  j = len(stlist)-1\n",
        "  while i < j:\n",
        "    stlist[0],stlist[j] = stlist[j],stlist[0]\n",
        "    i+=1\n",
        "    j-=1\n",
        "  rev = \"\".join(stlist)\n",
        "  return rev\n",
        "reverse(\"hiii\")"
      ],
      "metadata": {
        "colab": {
          "base_uri": "https://localhost:8080/",
          "height": 35
        },
        "id": "VzqkBi5gLLlW",
        "outputId": "16b38e65-3101-4743-d6a2-8692c307c5e7"
      },
      "execution_count": null,
      "outputs": [
        {
          "output_type": "execute_result",
          "data": {
            "text/plain": [
              "'iiih'"
            ],
            "application/vnd.google.colaboratory.intrinsic+json": {
              "type": "string"
            }
          },
          "metadata": {},
          "execution_count": 76
        }
      ]
    },
    {
      "cell_type": "code",
      "source": [
        "nums = [ 11, 15,2,7]\n",
        "target = 17\n",
        "\n",
        "for i in range(len(nums)):\n",
        "  for j in range(i+1,len(nums)):\n",
        "    if nums[i] + nums[j] == target:\n",
        "      print([i,j])\n"
      ],
      "metadata": {
        "colab": {
          "base_uri": "https://localhost:8080/"
        },
        "id": "6qwYzjEBSepl",
        "outputId": "b4ae841a-798f-43d2-dfbe-55225afb4beb"
      },
      "execution_count": null,
      "outputs": [
        {
          "output_type": "stream",
          "name": "stdout",
          "text": [
            "[1, 2]\n"
          ]
        }
      ]
    },
    {
      "cell_type": "code",
      "source": [
        "def is_palindrome(s):\n",
        "  s = \"\".join(char.lower() for char in s if char.isalnum())\n",
        "\n",
        "  if s == s[::-1]:\n",
        "    return True\n",
        "  else:\n",
        "    return False\n",
        "\n",
        "\n",
        "is_palindrome(\"A man, a plan, a canal, Panama\")"
      ],
      "metadata": {
        "colab": {
          "base_uri": "https://localhost:8080/"
        },
        "id": "oBfauexoUwb9",
        "outputId": "7de59a42-ab8e-4504-f06e-fb275553d774"
      },
      "execution_count": null,
      "outputs": [
        {
          "output_type": "execute_result",
          "data": {
            "text/plain": [
              "True"
            ]
          },
          "metadata": {},
          "execution_count": 96
        }
      ]
    },
    {
      "cell_type": "code",
      "source": [
        "s = \"A man, a plan, a canal, Panama\"\n",
        "s = \"\".join(char.lower() for char in s if char.isalnum())\n",
        "\n",
        "print(s)"
      ],
      "metadata": {
        "colab": {
          "base_uri": "https://localhost:8080/"
        },
        "id": "g-M4Xk_IVz3Q",
        "outputId": "2509cf24-1087-44ea-f0d4-f8028d36de44"
      },
      "execution_count": null,
      "outputs": [
        {
          "output_type": "stream",
          "name": "stdout",
          "text": [
            "amanaplanacanalpanama\n"
          ]
        }
      ]
    },
    {
      "cell_type": "code",
      "source": [
        "def fizz_buzz(n):\n",
        "  for i in range(1,n+1):\n",
        "    if i%3 ==0 and i%5==0:\n",
        "      print(\"fizzbuzz\")\n",
        "    elif i%3==0:\n",
        "      print(\"fizz\")\n",
        "    elif i%5==0:\n",
        "      print(\"buzz\")\n",
        "    else:\n",
        "      print(i)\n",
        "fizz_buzz(15)"
      ],
      "metadata": {
        "colab": {
          "base_uri": "https://localhost:8080/"
        },
        "id": "YlwjXP2Mvt1K",
        "outputId": "55f941e2-21da-401d-bfcf-78552c76eace"
      },
      "execution_count": null,
      "outputs": [
        {
          "output_type": "stream",
          "name": "stdout",
          "text": [
            "1\n",
            "2\n",
            "fizz\n",
            "4\n",
            "buzz\n",
            "fizz\n",
            "7\n",
            "8\n",
            "fizz\n",
            "buzz\n",
            "11\n",
            "fizz\n",
            "13\n",
            "14\n",
            "fizzbuzz\n"
          ]
        }
      ]
    },
    {
      "cell_type": "markdown",
      "source": [
        "largest in array"
      ],
      "metadata": {
        "id": "h9QKGRq1x7pH"
      }
    },
    {
      "cell_type": "code",
      "source": [
        "def largest(nums):\n",
        "  large = 0\n",
        "  for num in nums:\n",
        "    if num > large:\n",
        "      large = num\n",
        "  return large\n",
        "arr = [3, 8, 1, 6, 2, 9, 4]\n",
        "largest(arr)"
      ],
      "metadata": {
        "colab": {
          "base_uri": "https://localhost:8080/"
        },
        "id": "2DRxzdEBx6qN",
        "outputId": "6bd0e1f1-250b-4dd7-f5b7-60cb23727274"
      },
      "execution_count": null,
      "outputs": [
        {
          "output_type": "execute_result",
          "data": {
            "text/plain": [
              "9"
            ]
          },
          "metadata": {},
          "execution_count": 13
        }
      ]
    },
    {
      "cell_type": "code",
      "source": [
        "def valid(s):\n",
        "  stack = []\n",
        "  seen = {\")\": \"(\", \"}\": \"{\", \"]\": \"[\"}\n",
        "  for char in s:\n",
        "    if char in seen.values():\n",
        "      stack.append(char)\n",
        "    elif char in seen.keys():\n",
        "      if not stack or stack.pop() != seen[char]:\n",
        "        return False\n",
        "    else:\n",
        "      return False\n",
        "  return not stack\n",
        "\n",
        "valid(\"()[]{}\")\n"
      ],
      "metadata": {
        "colab": {
          "base_uri": "https://localhost:8080/"
        },
        "id": "ldMIihoK0CW3",
        "outputId": "37d3172c-277b-4ccd-834d-659e45d59662"
      },
      "execution_count": null,
      "outputs": [
        {
          "output_type": "execute_result",
          "data": {
            "text/plain": [
              "True"
            ]
          },
          "metadata": {},
          "execution_count": 18
        }
      ]
    },
    {
      "cell_type": "code",
      "source": [
        "#rotate array\n",
        "\n",
        "def rotate(arr,k):\n",
        "  k = k% len(arr)\n",
        "  return arr[-k:] + arr[:-k]\n",
        "rotate([1, 2, 3, 4, 5, 6, 7], 3)"
      ],
      "metadata": {
        "colab": {
          "base_uri": "https://localhost:8080/"
        },
        "id": "NPrZzDhS66ye",
        "outputId": "a2b08f37-433f-4e38-ccf3-bc93022b5d7d"
      },
      "execution_count": null,
      "outputs": [
        {
          "output_type": "execute_result",
          "data": {
            "text/plain": [
              "[5, 6, 7, 1, 2, 3, 4]"
            ]
          },
          "metadata": {},
          "execution_count": 37
        }
      ]
    },
    {
      "cell_type": "code",
      "source": [
        "s = [1, 2, 3, 4, 5, 6, 7]\n",
        "k = 3\n",
        "print(s[-k:])\n",
        "print(s[:-k])\n",
        "print(k%len(s))"
      ],
      "metadata": {
        "colab": {
          "base_uri": "https://localhost:8080/"
        },
        "id": "GljllDZm7c1U",
        "outputId": "8df6cec2-c851-442a-8d44-794420d17c56"
      },
      "execution_count": null,
      "outputs": [
        {
          "output_type": "stream",
          "name": "stdout",
          "text": [
            "[5, 6, 7]\n",
            "[1, 2, 3, 4]\n",
            "3\n"
          ]
        }
      ]
    },
    {
      "cell_type": "code",
      "source": [
        "def missing_number(arr):\n",
        "  n = len(arr)\n",
        "  expected = (n*(n+1))//2\n",
        "  total = sum(arr)\n",
        "  num = expected-total\n",
        "  return num\n",
        "\n",
        "missing_number([3, 0, 1])"
      ],
      "metadata": {
        "colab": {
          "base_uri": "https://localhost:8080/"
        },
        "id": "-1szHc0W9tcg",
        "outputId": "48376144-44aa-44d6-e1ca-45d92798b9f7"
      },
      "execution_count": null,
      "outputs": [
        {
          "output_type": "execute_result",
          "data": {
            "text/plain": [
              "2"
            ]
          },
          "metadata": {},
          "execution_count": 40
        }
      ]
    },
    {
      "cell_type": "code",
      "source": [
        "from collections import Counter\n",
        "def majority(arr):\n",
        "  condition = len(arr)//2\n",
        "  count = Counter(arr)\n",
        "  for ele,ele_count in count.items():\n",
        "    if ele >= condition:\n",
        "      return ele\n",
        "majority([3, 3, 4, 2, 4, 4, 2, 4, 4])"
      ],
      "metadata": {
        "colab": {
          "base_uri": "https://localhost:8080/"
        },
        "id": "J0Q1CMs6AZIh",
        "outputId": "3b3d70aa-048d-47ea-90de-32932b4e0977"
      },
      "execution_count": null,
      "outputs": [
        {
          "output_type": "execute_result",
          "data": {
            "text/plain": [
              "4"
            ]
          },
          "metadata": {},
          "execution_count": 49
        }
      ]
    },
    {
      "cell_type": "code",
      "source": [
        "def two_sum(arr,x):\n",
        "  dicti = {}\n",
        "  for i,num in enumerate(arr):\n",
        "    comp = x - num\n",
        "    if comp in dicti:\n",
        "      return [dicti[comp],i]\n",
        "    dicti[num] = i\n",
        "  return []\n",
        "print(two_sum([3, 3], 6))\n",
        "print(two_sum([1, 2, 3, 4, 5], 10))"
      ],
      "metadata": {
        "colab": {
          "base_uri": "https://localhost:8080/"
        },
        "id": "QAp2megmC9RR",
        "outputId": "b7246ec2-8a33-4d72-b089-f3fdeff7f001"
      },
      "execution_count": null,
      "outputs": [
        {
          "output_type": "stream",
          "name": "stdout",
          "text": [
            "[0, 1]\n",
            "[]\n"
          ]
        }
      ]
    },
    {
      "cell_type": "code",
      "source": [
        "def move_zeroes(arr):\n",
        "  non = 0\n",
        "  for i in range(len(arr)):\n",
        "    if arr[i] !=0:\n",
        "      arr[i],arr[non] = arr[non],arr[i]\n",
        "      non+=1\n",
        "  return arr\n",
        "move_zeroes([0, 1, 0, 3, 12])"
      ],
      "metadata": {
        "colab": {
          "base_uri": "https://localhost:8080/"
        },
        "id": "bK7ahQOmFK5t",
        "outputId": "a0f8a06a-108a-47f8-bc1d-082b04cef656"
      },
      "execution_count": null,
      "outputs": [
        {
          "output_type": "execute_result",
          "data": {
            "text/plain": [
              "[1, 3, 12, 0, 0]"
            ]
          },
          "metadata": {},
          "execution_count": 57
        }
      ]
    },
    {
      "cell_type": "code",
      "source": [
        "from collections import Counter\n",
        "\n",
        "s = \"zzoooo\"\n",
        "\n",
        "print()"
      ],
      "metadata": {
        "colab": {
          "base_uri": "https://localhost:8080/"
        },
        "id": "4lnJGZNeVbAl",
        "outputId": "5ae893c6-8639-4d5d-d202-2a64944234e7"
      },
      "execution_count": null,
      "outputs": [
        {
          "output_type": "stream",
          "name": "stdout",
          "text": [
            "Counter({'o': 4, 'z': 2})\n"
          ]
        }
      ]
    },
    {
      "cell_type": "code",
      "source": [
        "A = [5, 7, 10, 5, 15]\n",
        "B = [2 ,2 ,1 ,3 ,5]\n",
        "\n",
        "differ = [b-a for a,b in zip(A,B)]\n",
        "\n",
        "if all(diff == differ[0] for diff in differ):\n",
        "   print(sum(abs(diff) for diff in differ))//2\n",
        "else:\n",
        "  print(-1)"
      ],
      "metadata": {
        "colab": {
          "base_uri": "https://localhost:8080/"
        },
        "id": "6bWqsM6nmHf6",
        "outputId": "d7eb6854-2246-46b7-cde6-dcc488426d27"
      },
      "execution_count": null,
      "outputs": [
        {
          "output_type": "stream",
          "name": "stdout",
          "text": [
            "-1\n"
          ]
        }
      ]
    },
    {
      "cell_type": "markdown",
      "source": [
        "Linked list\n"
      ],
      "metadata": {
        "id": "vFDT2hJqItS_"
      }
    },
    {
      "cell_type": "code",
      "source": [
        "class Node:\n",
        "  def __init__(self,data):\n",
        "    self.data = data\n",
        "    self.next = None\n",
        "class Linkedlist:\n",
        "  def __init__(self):\n",
        "    self.head = None\n",
        "\n",
        "  def pushatbegin(self,new_data):\n",
        "    new_node = Node(new_data)\n",
        "\n",
        "    # 3. Make next of new Node as head\n",
        "    new_node.next = self.head\n",
        "\n",
        "    # 4. Move the head to point to new Node\n",
        "    self.head = new_node\n",
        "\n",
        "linked = Linkedlist()\n",
        "\n",
        "linked.head = Node(1)\n",
        "second = Node(2)\n",
        "third = Node(3)\n",
        "\n",
        "\n",
        "##connect\n",
        "\n",
        "linked.head.next = second\n",
        "second.next = third\n",
        "\n",
        "linked.pushatbegin(4)\n",
        "\n",
        "\n",
        "#print\n",
        "while linked.head !=None:\n",
        "  print(linked.head.data,end =\" \")\n",
        "  linked.head = linked.head.next"
      ],
      "metadata": {
        "colab": {
          "base_uri": "https://localhost:8080/"
        },
        "id": "ccvKmqRKIuwe",
        "outputId": "f39ba3dd-68b1-4ed8-832e-23d963900251"
      },
      "execution_count": null,
      "outputs": [
        {
          "output_type": "stream",
          "name": "stdout",
          "text": [
            "4 1 2 3 "
          ]
        }
      ]
    }
  ]
}